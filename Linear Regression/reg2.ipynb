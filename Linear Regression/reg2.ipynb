{
 "cells": [
  {
   "cell_type": "code",
   "execution_count": 28,
   "metadata": {},
   "outputs": [],
   "source": [
    "import numpy as np\n",
    "import pandas as pd\n",
    "import matplotlib.pyplot as plt"
   ]
  },
  {
   "cell_type": "code",
   "execution_count": 6,
   "metadata": {},
   "outputs": [],
   "source": [
    "db = pd.read_csv('House_Price_Data1-Copy1.csv')\n",
    "x = db.iloc[:,:-1].values\n",
    "y = db.iloc[:,-1].values"
   ]
  },
  {
   "cell_type": "code",
   "execution_count": 7,
   "metadata": {},
   "outputs": [],
   "source": [
    "from sklearn.model_selection import train_test_split\n",
    "x_train,x_test,y_train,y_test = train_test_split(x,y,test_size = 0.2 , random_state = 0)\n"
   ]
  },
  {
   "cell_type": "code",
   "execution_count": 8,
   "metadata": {},
   "outputs": [
    {
     "data": {
      "text/plain": [
       "LinearRegression()"
      ]
     },
     "execution_count": 8,
     "metadata": {},
     "output_type": "execute_result"
    }
   ],
   "source": [
    "from sklearn.linear_model import LinearRegression\n",
    "reg = LinearRegression()\n",
    "reg.fit(x_train,y_train)"
   ]
  },
  {
   "cell_type": "code",
   "execution_count": 16,
   "metadata": {},
   "outputs": [],
   "source": []
  },
  {
   "cell_type": "code",
   "execution_count": 32,
   "metadata": {},
   "outputs": [
    {
     "name": "stdout",
     "output_type": "stream",
     "text": [
      "\n",
      "\n",
      "\n",
      "Pridicted Actual\n",
      "[[ 42145.02  37731.  ]\n",
      " [120982.25 122391.  ]\n",
      " [ 64256.15  57081.  ]\n",
      " [ 64103.51  63218.  ]\n",
      " [116458.13 116969.  ]\n",
      " [107461.41 109431.  ]]\n"
     ]
    }
   ],
   "source": [
    "y_pred = reg.predict(x_test)\n",
    "np.set_printoptions(precision=2)\n",
    "print(\"\\n\\n\\nPridicted Actual\")\n",
    "print(np.concatenate((y_pred.reshape(len(y_pred),1),y_test.reshape(len(y_test),1)),1))"
   ]
  },
  {
   "cell_type": "code",
   "execution_count": 46,
   "metadata": {},
   "outputs": [
    {
     "name": "stdout",
     "output_type": "stream",
     "text": [
      "[[ 9.6  4.   4.   2.   5.3  4.   7.9  3.   2.9  2.   5.1  2.   3.2  4.\n",
      "   4.5  3.   8.2  1.   6.8  7.   1.3  3.  10.5  5. ]\n",
      " [ 3.   5.   2.2  4.   5.9  2.   6.   5.   3.7  2.   3.2  2.   9.   6.\n",
      "   2.   2.   1.1  1.   7.1  8.   4.9  4.   4.   4. ]]\n",
      "[[ 1.5  5.  10.3  2.   4.1  2. ]\n",
      " [ 3.9  5.   9.5  7.   8.7  4. ]]\n",
      "[112635  55794  83088 101302  56642  66029  64445  61111 113812  91738\n",
      "  46205 121872  60150  39891  81363  93940  57189  54445 105582  43525\n",
      "  39343  98273  67938  56957]\n",
      "[ 42145.02 120982.25  64256.15  64103.51 116458.13 107461.41]\n"
     ]
    }
   ],
   "source": [
    "x_train = x_train.reshape(2,24)\n",
    "x_test = x_test.reshape(2,6)\n",
    "print(x_train)\n",
    "print(x_test)\n",
    "print(y_train)\n",
    "print(y_pred)"
   ]
  },
  {
   "cell_type": "code",
   "execution_count": 47,
   "metadata": {},
   "outputs": [
    {
     "data": {
      "image/png": "[encoded data removed]",
      "text/plain": [
       "<Figure size 432x288 with 1 Axes>"
      ]
     },
     "metadata": {
      "needs_background": "light"
     },
     "output_type": "display_data"
    }
   ],
   "source": [
    "plt.scatter(x_train[1], y_train, color = 'red')\n",
    "plt.plot(x_test[1], y_pred, color = 'blue')\n",
    "plt.title('House Price (Test set)')\n",
    "plt.xlabel('Size of House')\n",
    "plt.ylabel('Price')\n",
    "plt.show()"
   ]
  },
  {
   "cell_type": "code",
   "execution_count": null,
   "metadata": {},
   "outputs": [],
   "source": []
  }
 ],
 "metadata": {
  "kernelspec": {
   "display_name": "Python 3",
   "language": "python",
   "name": "python3"
  },
  "language_info": {
   "codemirror_mode": {
    "name": "ipython",
    "version": 3
   },
   "file_extension": ".py",
   "mimetype": "text/x-python",
   "name": "python",
   "nbconvert_exporter": "python",
   "pygments_lexer": "ipython3",
   "version": "3.8.5"
  }
 },
 "nbformat": 4,
 "nbformat_minor": 4
}
